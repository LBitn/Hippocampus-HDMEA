{
 "cells": [
  {
   "cell_type": "code",
   "execution_count": 5,
   "id": "09801361",
   "metadata": {
    "scrolled": true
   },
   "outputs": [],
   "source": [
    "# ------------------------------------------------------------------------------------------------------------ #\n",
    "### Path were the AccuraTools.jl file exists\n",
    "\n",
    "#PATHFunctions = raw\"C:\\Users\\Siby\\Dropbox\\git-repos\\Hippocampus-HDMEA\";\n",
    "PATHFunctions = \"/home/isabel/Dropbox/git-repos/Hippocampus-HDMEA\";\n",
    "push!( LOAD_PATH, PATHFunctions );\n",
    "using AccuraTools\n",
    "\n",
    "# ------------------------------------------------------------------------------------------------------------ #"
   ]
  },
  {
   "cell_type": "code",
   "execution_count": 7,
   "id": "24e41f53",
   "metadata": {},
   "outputs": [
    {
     "name": "stdout",
     "output_type": "stream",
     "text": [
      "Creation Date: Thu, 01 Sep 2022 15:47:27\n",
      "You are now working on the new main path: /home/isabel/Desktop/Misc/Data/Files_Chole/example2\n",
      "example2.brw : BRW-File Level4 - 3Brain RaW data file for high resolution MEA platform, HDF5-format\n",
      "HDF5 file size: 0.1186048125 GB\n"
     ]
    }
   ],
   "source": [
    "# ------------------------------------------------------------------------------------------------------------ #\n",
    "\n",
    "using JLD\n",
    "\n",
    "### absolute path to the brw file\n",
    "FILEBRW = \"/home/isabel/Desktop/Misc/Data/Files_Chole/example2.brw\";\n",
    "\n",
    "#FILEBRW = raw\"C:\\Users\\Siby\\Desktop\\Data\\example2.brw\"\n",
    "\n",
    "# FILEBRW = raw\"C:\\Users\\Siby\\Desktop\\Data\\example2.brw\"\n",
    "Variables = VariablesBRW4( FILEBRW, true );\n",
    "\n",
    "### If the VariablesBRW file already exists\n",
    "# FILEVariables = \"/home/isabel/Desktop/Misc/Data/Files_Chole/example2/Info/Variables.jld\";\n",
    "# Variables = load( FILEVariables )[ \"Variables\" ];\n",
    "\n",
    "# ------------------------------------------------------------------------------------------------------------ #"
   ]
  },
  {
   "cell_type": "code",
   "execution_count": 8,
   "id": "4eb61b90",
   "metadata": {},
   "outputs": [],
   "source": [
    "# ------------------------------------------------------------------------------------------------------------ #\n",
    "### Get the dataset in a matrix of manageable dimentions\n",
    "\n",
    "PATHMAIN = split( FILEBRW, \".\" )[ 1 ]; cd( PATHMAIN );\n",
    "PATHSegments = joinpath( PATHMAIN, \"Segments\" ); mkpath( PATHSegments );\n",
    "FILEVariables = joinpath( PATHMAIN, \"Info\", \"Variables.jld\" );\n",
    "\n",
    "limLow = 0.1 # GB\n",
    "limHigh = 0.4 # GB\n",
    "\n",
    "Variables = Get_Chunks( Variables, PATHSegments, limLow, limHigh );\n",
    "\n",
    "# ------------------------------------------------------------------------------------------------------------ #"
   ]
  },
  {
   "cell_type": "code",
   "execution_count": 9,
   "id": "ee2ad73a",
   "metadata": {},
   "outputs": [],
   "source": [
    "# ------------------------------------------------------------------------------------------------------------ #\n",
    "### Removing Obvious Saturation and Voltage Convertion\n",
    "\n",
    "PATHVoltage = replace( PATHSegments, \"Segments\" => \"Voltage\" ); mkpath( PATHVoltage );\n",
    "nChs = Variables[ \"nChs\" ]; channels = 1:nChs;\n",
    "\n",
    "FILESsegments = searchdir( PATHSegments, \"jld\" );\n",
    "nSegments = length( FILESsegments );\n",
    "\n",
    "# ------------------------------------------------------------------------------------------------------------ #"
   ]
  },
  {
   "cell_type": "code",
   "execution_count": 10,
   "id": "08ba71f5",
   "metadata": {},
   "outputs": [],
   "source": [
    "# ------------------------------------------------------------------------------------------------------------ #\n",
    "### Here you make a loop if there is more that one file in segments...\n",
    "# for i = 1:length( FILESsegments );\n",
    "i = 1\n",
    "FILEsegments = FILESsegments[ i ];\n",
    "FILEVoltage = joinpath( PATHVoltage, replace( basename( FILEsegments ), \"BIN\" => \"DIG\" ) );\n",
    "data = load( FILEsegments )[ \"data\" ];\n",
    "data = VoltegeConversion( data, Variables );\n",
    "DiscartedChannels, earth, data = PositiveSaturation( data, Variables );\n",
    "save( FILEVoltage, \"data\", data, \"DiscartedChannels\", DiscartedChannels );\n",
    "# end\n",
    "# ------------------------------------------------------------------------------------------------------------ #"
   ]
  },
  {
   "cell_type": "code",
   "execution_count": 13,
   "id": "98c55dae",
   "metadata": {},
   "outputs": [],
   "source": [
    "# ------------------------------------------------------------------------------------------------------------ #\n",
    "\n",
    "# Saving modifications\n",
    "Variables[ \"earth\" ] = earth;\n",
    "save( FILEVariables, \"Variables\", Variables );\n",
    "\n",
    "# ------------------------------------------------------------------------------------------------------------ #"
   ]
  },
  {
   "cell_type": "code",
   "execution_count": null,
   "id": "19c1a091",
   "metadata": {},
   "outputs": [],
   "source": []
  }
 ],
 "metadata": {
  "kernelspec": {
   "display_name": "Julia 1.7.2",
   "language": "julia",
   "name": "julia-1.7"
  },
  "language_info": {
   "file_extension": ".jl",
   "mimetype": "application/julia",
   "name": "julia",
   "version": "1.7.2"
  }
 },
 "nbformat": 4,
 "nbformat_minor": 5
}
