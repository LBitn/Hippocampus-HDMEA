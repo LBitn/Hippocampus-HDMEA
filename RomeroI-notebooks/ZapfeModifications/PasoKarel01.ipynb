{
 "cells": [
  {
   "cell_type": "code",
   "execution_count": 51,
   "id": "b814ce7f",
   "metadata": {},
   "outputs": [
    {
     "data": {
      "text/plain": [
       "elemtorow (generic function with 1 method)"
      ]
     },
     "execution_count": 51,
     "metadata": {},
     "output_type": "execute_result"
    }
   ],
   "source": [
    "\"\"\" funcion auxiliar para las multiples traslaciones \"\"\"\n",
    "function muvoltint( x, factor, offset )\n",
    "    result = ( x / factor ) - offset;\n",
    "end\n",
    "using Statistics\n",
    "\"\"\" buscasatura( datos::Array; \n",
    "        factor, offset = -2048, freq = deffreq, tini = 0.5, tfin = 10, umbral = 1900, \n",
    "        tol = 0.04 )\n",
    "    Busca saturados por promedio sobre umbral \n",
    "\"\"\"\n",
    "function buscasatura( \n",
    "        datos::Array; factor, offset = -2048, freq = freq, tini = 0.5, tfin = 10, \n",
    "        umbral = 1900, tol = 0.04 )\n",
    "    satint = muvoltint( umbral, factor, offset ) # pasamos el valor a los enteros\n",
    "    ( nchans, nc ) = size( datos );\n",
    "    cini = round( Int, ceil( tini * freq ) );\n",
    "    cfin = round( Int, ceil( tfin * freq ) );\n",
    "    result = Set( Array{ Int16, 1 }[ ] );\n",
    "    for j = 1:nchans\n",
    "        if factor > 0\n",
    "            sepasa = findall( x -> x > satint, datos[ j, cini : cfin ] );\n",
    "        else     \n",
    "            sepasa = findall( x-> x < satint, datos[ j, cini : cfin ] );\n",
    "        end\n",
    "        enemalos = length( sepasa );\n",
    "        enetotal = length( cini : cfin );\n",
    "        if ( enemalos / enetotal ) > tol\n",
    "            ( a, b ) = divrem( j, 64 )\n",
    "            a += 1;\n",
    "            bla = [ j, a, b ];\n",
    "            result = push!( result, bla );\n",
    "        end\n",
    "    end\n",
    "    return result\n",
    "end\n",
    "\n",
    "using Statistics\n",
    "function buscastdraras( \n",
    "        datos::Array; tini, tfin, factor, offset = -2048, freq = deffreq, bajo = 10, \n",
    "        alto = 40 )\n",
    "    # ventms es la ventana en milisegundos\n",
    "    # busca saturardos por desviación por ventana por umbral\n",
    "    bai = abs( bajo / factor );\n",
    "    ari = abs( alto / factor );\n",
    "    ( nchans, nc ) = size( datos );\n",
    "    cini = round( Int, ceil( freq * tini ) );\n",
    "    cfin = round( Int, ceil( freq * tfin ) );\n",
    "    result = Set( Array{ Int16, 1 }[ ] );\n",
    "    for j = 1:nchans        \n",
    "        sigma = std( datos[ j, cini : cfin ] );    \n",
    "        if sigma > ari || sigma < bai\n",
    "            ( a, b ) = divrem( j, 64 );\n",
    "            a += 1;\n",
    "            bla = [ j, a, b ];\n",
    "            result = push!( result, bla );\n",
    "        end\n",
    "    end\n",
    "    return result\n",
    "end\n",
    "function buscaCanalPicos( \n",
    "        datos::Array; factor, offset = -2048, tini = 0.5, tfin = 8, freq = deffreq, \n",
    "        maxvolt = -100, minvolt = -1500, minstd = 10, maxstd = 35 )\n",
    "    # Busquemos los canales con probable respuesta de potencial de accion\n",
    "    ( nchans, nc ) = size( datos );\n",
    "    taux1 = round( Int, ceil( tini * freq ) );\n",
    "    taux2 = round( Int, ceil( tfin * freq ) );\n",
    "    mxvint = muvoltint( maxvolt, factor, offset );\n",
    "    mnvint = muvoltint( minvolt, factor, offset );\n",
    "    ustdint = abs( maxstd / factor );\n",
    "    lstdint = abs( minstd / factor );\n",
    "    println( \"Estoy buscando del cuadro \" , taux1, \" al , \", taux2 )\n",
    "    result = Set( Array{ Int16, 1 }[ ] );\n",
    "    for j = 1:nchans\n",
    "        fondo = minimum( vec( datos[ j, taux1 : taux2 ] ) );\n",
    "        dpgs = std( datos[ j, taux1 : taux2 ] );\n",
    "        test = true;\n",
    "        if factor > 0\n",
    "            test = ( mxvint > fondo > mnvint ) && ( ustdint > dpgs > lstdint );\n",
    "        else\n",
    "            test = ( mxvint < fondo < mnvint ) && ( ustdint > dpgs > lstdint );\n",
    "        end\n",
    "        if test\n",
    "            ( a, b ) = divrem( j, 64 );\n",
    "            #los canales se cuentas desde 1, no de cero\n",
    "            a += 1;\n",
    "            b += 1;       \n",
    "            bla = [ j, a, b ];     \n",
    "            result = push!( result, bla );\n",
    "        end\n",
    "    end\n",
    "    #=  Esta rutina no es muy confiable. Solo da buenos resultados\n",
    "    con actividad evocada. Necesitamos algo mas estricto  =#\n",
    "    return result\n",
    "end\n",
    "function elemtorow( xxs::Set; n = 2, renglones = false )\n",
    "    # pasa los elementos de un conjunto a rengoles de un array\n",
    "    result = zeros( UInt16, 1, n );\n",
    "    for k in xxs\n",
    "        if renglones\n",
    "            result = vcat( result, k );\n",
    "        else\n",
    "            result = vcat( result, transpose( k ) )\n",
    "        end\n",
    "    end\n",
    "    return result[ 2 : end, : ]\n",
    "end"
   ]
  },
  {
   "cell_type": "code",
   "execution_count": 3,
   "id": "9a0f7fbb",
   "metadata": {},
   "outputs": [],
   "source": [
    "using JLD"
   ]
  },
  {
   "cell_type": "code",
   "execution_count": 5,
   "id": "64dabb2d",
   "metadata": {},
   "outputs": [],
   "source": [
    "FILEBRW = \"/run/media/isabel/Data/Hipocampo/Espontanea/01-06-2022/BRWs/Phase_10.brw\"\n",
    "PATHMAIN = split( FILEBRW, \".\" )[ 1 ];\n",
    "FILEPATHS = joinpath( PATHMAIN, \"Info\", \"Paths.jld\" );\n",
    "PATHS = load( FILEPATHS )[ \"PATHS\" ];\n",
    "PATHINFO = PATHS[ \"PATHINFO\" ];\n",
    "FILEVARS = joinpath( PATHINFO, \"Variables.jld\" );\n",
    "Variables = load( FILEVARS )[ \"Variables\" ];"
   ]
  },
  {
   "cell_type": "code",
   "execution_count": 10,
   "id": "9a056507",
   "metadata": {},
   "outputs": [],
   "source": [
    "Segment = load( \n",
    "    \"/run/media/isabel/Data/Hipocampo/Espontanea/01-06-2022/BRWs/Phase_10/Voltage/BIN64.jld\" \n",
    "    );"
   ]
  },
  {
   "cell_type": "code",
   "execution_count": 14,
   "id": "06c64a0b",
   "metadata": {},
   "outputs": [],
   "source": [
    "Factor = Variables[ \"SignalInversion\" ] * ( \n",
    "    Variables[ \"MaxVolt\" ] - Variables[ \"MinVolt\" ] ) / ( 2^Variables[ \"BitDepth\" ] );"
   ]
  },
  {
   "cell_type": "code",
   "execution_count": 18,
   "id": "37a03f13",
   "metadata": {},
   "outputs": [],
   "source": [
    "NRecFrames = size( Segment[ \"data\" ], 2 );"
   ]
  },
  {
   "cell_type": "code",
   "execution_count": null,
   "id": "21c49313",
   "metadata": {},
   "outputs": [],
   "source": []
  },
  {
   "cell_type": "code",
   "execution_count": null,
   "id": "7d19968e",
   "metadata": {},
   "outputs": [],
   "source": []
  },
  {
   "cell_type": "code",
   "execution_count": null,
   "id": "44982687",
   "metadata": {},
   "outputs": [],
   "source": []
  },
  {
   "cell_type": "code",
   "execution_count": null,
   "id": "7aa3ef9c",
   "metadata": {},
   "outputs": [],
   "source": []
  },
  {
   "cell_type": "code",
   "execution_count": 44,
   "id": "0d9fb2cc",
   "metadata": {},
   "outputs": [],
   "source": [
    "arxname = FILEBRW;\n",
    "arx = Variables;\n",
    "factor = Factor;\n",
    "dataraw = Float64.( Segment[ \"data\" ] );"
   ]
  },
  {
   "cell_type": "code",
   "execution_count": 8,
   "id": "aefaad21",
   "metadata": {},
   "outputs": [],
   "source": [
    "freq = arx[ \"SamplingRate\" ] / 1000; # usamos kHz y milisegundos aqui porfa\n",
    "retrazo, final, latencia = 0, 0, 0;"
   ]
  },
  {
   "cell_type": "code",
   "execution_count": 30,
   "id": "4e308b11",
   "metadata": {},
   "outputs": [],
   "source": [
    "finbusqueda = NRecFrames/freq;"
   ]
  },
  {
   "cell_type": "code",
   "execution_count": 45,
   "id": "fb161ce4",
   "metadata": {},
   "outputs": [
    {
     "name": "stdout",
     "output_type": "stream",
     "text": [
      "Estoy buscando del cuadro 1 al , 49446\n"
     ]
    }
   ],
   "source": [
    "#=  los parametros son datos promediados, frecuencia, tiempo post estimulo en ms, \n",
    "umbral en microvolts, umbral de saturación en microvolts  =#\n",
    "iniciobusqueda = 0.01;\n",
    "# finbusqueda = 282;\n",
    "# finbusqueda = NRecFrames;\n",
    "PruebaRespuesta = buscaCanalPicos( \n",
    "    dataraw, factor = factor, tini = iniciobusqueda, tfin = finbusqueda, maxvolt = -300, \n",
    "    freq = freq );"
   ]
  },
  {
   "cell_type": "code",
   "execution_count": 46,
   "id": "16627cde",
   "metadata": {},
   "outputs": [],
   "source": [
    "# y luego los saturados\n",
    "satu = buscasatura( \n",
    "    dataraw, factor = factor, freq = freq, tini = iniciobusqueda, tfin = finbusqueda, \n",
    "    umbral = 2000 );"
   ]
  },
  {
   "cell_type": "code",
   "execution_count": 47,
   "id": "ae4e4ed0",
   "metadata": {},
   "outputs": [
    {
     "name": "stdout",
     "output_type": "stream",
     "text": [
      "Encontramos 11 canales probablemente saturados.\n",
      "Encontramos 0 canales probablemente con actividad.\n"
     ]
    }
   ],
   "source": [
    "numerosaturados = length( satu );\n",
    "println( \"Encontramos \", numerosaturados, \" canales probablemente saturados.\" );\n",
    "println( \"Encontramos \", length( PruebaRespuesta ), \" canales probablemente con actividad.\" \n",
    ");"
   ]
  },
  {
   "cell_type": "code",
   "execution_count": 48,
   "id": "feaa5b9c",
   "metadata": {},
   "outputs": [],
   "source": [
    "quietos = buscastdraras(\n",
    "    dataraw, tini = iniciobusqueda, tfin = finbusqueda, factor = factor, freq = freq, \n",
    "    bajo = 16, alto = 10000 );"
   ]
  },
  {
   "cell_type": "code",
   "execution_count": 49,
   "id": "ab4435b8",
   "metadata": {},
   "outputs": [
    {
     "name": "stdout",
     "output_type": "stream",
     "text": [
      "Encontramos 1 canales muy quietos\n",
      "Encontramos 4078 canales muy intensos\n"
     ]
    }
   ],
   "source": [
    "intensos = buscastdraras(\n",
    "    dataraw, tini = iniciobusqueda, tfin = finbusqueda, factor = factor, freq = freq, \n",
    "    bajo = 0, alto = 30 );\n",
    "numerosaturados = length( quietos );\n",
    "println( \"Encontramos \", numerosaturados, \" canales muy quietos\" );\n",
    "numerosaturados = length( intensos );\n",
    "println( \"Encontramos \", numerosaturados, \" canales muy intensos\" );"
   ]
  },
  {
   "cell_type": "code",
   "execution_count": 52,
   "id": "88790207",
   "metadata": {},
   "outputs": [],
   "source": [
    "mal = union( quietos, satu );\n",
    "buenos = union( intensos, PruebaRespuesta );\n",
    "malforsave = elemtorow( mal, n = 3 );\n",
    "buenforsave = elemtorow( buenos, n = 3 );"
   ]
  },
  {
   "cell_type": "code",
   "execution_count": 59,
   "id": "2f93961c",
   "metadata": {},
   "outputs": [],
   "source": [
    "dirgen = dirname( arxname ) * \"/\";\n",
    "basegen = basename( arxname )[ 1 : ( end - 4 ) ];\n",
    "# una palabra para indicar el intervalo\n",
    "outname = string( dirgen, basegen, \"_BIN64_preproc.h5\" );"
   ]
  },
  {
   "cell_type": "code",
   "execution_count": 76,
   "id": "ae473ce4",
   "metadata": {},
   "outputs": [
    {
     "data": {
      "text/plain": [
       "false"
      ]
     },
     "execution_count": 76,
     "metadata": {},
     "output_type": "execute_result"
    }
   ],
   "source": []
  },
  {
   "cell_type": "code",
   "execution_count": 78,
   "id": "71a5c588",
   "metadata": {},
   "outputs": [
    {
     "name": "stdout",
     "output_type": "stream",
     "text": [
      "abriendo los datos NRecFrames\n",
      "abriendo los datos BRWname\n",
      "abriendo los datos BRWsizeGB\n",
      "abriendo los datos STD\n",
      "abriendo los datos SamplingRate\n",
      "abriendo los datos Version\n",
      "abriendo los datos StdMean\n",
      "abriendo los datos nChs\n",
      "abriendo los datos FwVersion\n",
      "abriendo los datos Raw\n",
      "abriendo los datos MinVolt\n",
      "abriendo los datos MeaType\n",
      "abriendo los datos MaxVolt\n",
      "abriendo los datos Chs\n",
      "abriendo los datos BitDepth\n",
      "abriendo los datos MeaLayersInfo\n",
      "abriendo los datos ExperimentType\n",
      "abriendo los datos NRows\n",
      "abriendo los datos System\n",
      "abriendo los datos Description\n",
      "abriendo los datos SignalInversion\n",
      "abriendo los datos GUID\n",
      "abriendo los datos HwVersion\n",
      "abriendo los datos SysChs\n",
      "abriendo los datos ValidChs\n",
      "abriendo los datos NCols\n",
      "abriendo los datos Layout\n",
      "abriendo los datos CanalesMalos\n",
      "abriendo los datos Datos\n",
      "abriendo los datos CanalesBuenos\n",
      "hemos guardado este cacho en el archivo /run/media/isabel/Data/Hipocampo/Espontanea/01-06-2022/BRWs/Phase_10_BIN64_preproc.h5\n"
     ]
    }
   ],
   "source": [
    "using HDF5\n",
    "# aqui hay que arreglar el rollo del directorio\n",
    "listaextra = Dict(\n",
    "    \"CanalesBuenos\" => buenforsave,\n",
    "    \"CanalesMalos\"  => malforsave,\n",
    "    \"Datos\"         => dataraw\n",
    ");\n",
    "h5open( outname, \"w\" ) do file\n",
    "    for nam in keys( arx )\n",
    "        datos = arx[ nam ];\n",
    "        println( \"abriendo los datos \", nam );\n",
    "        if isa( datos, Real ) || isa( datos, String ) \n",
    "            write( file, \"$nam\", datos );\n",
    "        end\n",
    "    end\n",
    "    for k in keys( listaextra )\n",
    "        datos = listaextra[ k ];\n",
    "        println( \"abriendo los datos \", k );\n",
    "        write( file, \"$k\", datos );\n",
    "    end\n",
    "    \n",
    "end\n",
    "println( \"hemos guardado este cacho en el archivo \", outname );"
   ]
  },
  {
   "cell_type": "markdown",
   "id": "7ec626ea",
   "metadata": {},
   "source": [
    "### las variables de los canales buenos y malos estan en UInt..."
   ]
  }
 ],
 "metadata": {
  "kernelspec": {
   "display_name": "Julia 1.7.2",
   "language": "julia",
   "name": "julia-1.7"
  },
  "language_info": {
   "file_extension": ".jl",
   "mimetype": "application/julia",
   "name": "julia",
   "version": "1.7.2"
  }
 },
 "nbformat": 4,
 "nbformat_minor": 5
}
