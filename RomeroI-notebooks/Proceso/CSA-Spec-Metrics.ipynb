{
 "cells": [
  {
   "cell_type": "markdown",
   "id": "e939173b",
   "metadata": {},
   "source": [
    "# Select the segment to be analyzed for LFP and MUA simultaneously.\n",
    "It must present high power values in these frequency bands ( 0 - 200 Hz for LFP and 300 - 5000 Hz for MUA )"
   ]
  },
  {
   "cell_type": "markdown",
   "id": "097b00a6",
   "metadata": {},
   "source": [
    "##### 01 - Cutting the segment\n",
    "##### 02 - Convert to Voltage\n",
    "##### 03 - Repair electrode saturation\n",
    "##### 04 - Identify happy friends\n",
    "##### 05 - Identify damaged electrodes\n",
    "##### 06 - Parameterize for tissue position identification\n",
    "##### 07 - Spike detection\n",
    "##### 08 - CSD\n",
    "##### 09 - Save the data in jld and hdf5, in raw data and filtered data"
   ]
  },
  {
   "cell_type": "code",
   "execution_count": 2,
   "id": "3ee12b8b",
   "metadata": {},
   "outputs": [],
   "source": [
    "# ~~ ~~ ~ ~~ ~ ~~ ~ ~~ ~ ~~ ~ ~~ ~ ~~ ~ ~~ constantes ~~ ~ ~~ ~ ~~ ~ ~~ ~ ~~ ~ ~~ ~ ~~ ~ ~~ #\n",
    "limupper = 0.6; # GB, for whole file segmentation in uInt8\n",
    "limite = 15; # maximum percentage of segment that can be saturated\n",
    "HV = 2500; # upper voltage limit in μV\n",
    "lV = -2500; # lower voltage limit in μV\n",
    "method = 1; # method to repair saturation ( 1, 2 or 3 )\n",
    "ΔT = 400; # ms for the temporary variation\n",
    "window = 5; # ms for event detection\n",
    "bit = 1; # window sliding milliseconds\n",
    "distance = 0.3; # ms maximum distance between events to be discarded\n",
    "thr = -60; # µV static threshold\n",
    "mid = 0.6; # Value for plotting the metrics for ACD\n",
    "# ~ ~~ ~ ~~ ~ ~~ ~ ~~ ~ ~~ ~ ~~ ~ ~~ ~ ~~ ~ ~~ ~ ~~ ~ ~~ ~ ~~ ~ ~~ ~ ~~ ~ ~~ ~ ~~ ~ ~~ ~ ~~ #"
   ]
  },
  {
   "cell_type": "code",
   "execution_count": null,
   "id": "0df33bde",
   "metadata": {},
   "outputs": [],
   "source": [
    "# ~~ ~ ~~ ~ ~~ ~ ~~ ~ ~~ ~ ~~ ~ ~~ ~ ~~ ~~ paquetes ~ ~~ ~ ~~ ~ ~~ ~ ~~ ~ ~~ ~ ~~ ~ ~~ ~ ~~ #\n",
    "using JLD\n",
    "using Suppressor\n",
    "using Plots\n",
    "# ~ ~~ ~ ~~ ~ ~~ ~ ~~ ~ ~~ ~ ~~ ~ ~~ ~ ~~ ~ ~~ ~ ~~ ~ ~~ ~ ~~ ~ ~~ ~ ~~ ~ ~~ ~ ~~ ~ ~~ ~ ~~ #"
   ]
  },
  {
   "cell_type": "code",
   "execution_count": 3,
   "id": "04c527f2",
   "metadata": {},
   "outputs": [],
   "source": [
    "# ~ ~~ ~ ~~ ~ ~~ ~ ~~ ~ ~~ ~ ~~ ~ ~~ ~ ~~ ~ ~~ ~ ~~ ~ ~~ ~ ~~ ~ ~~ ~ ~~ ~ ~~ ~ ~~ ~ ~~ ~ ~~ #\n",
    "@suppress begin\n",
    "    PATHFunctions = \n",
    "    \"/home/isabel/Dropbox/git-repos/Hippocampus-HDMEA/RomeroI-notebooks/ZapfeModifications\";\n",
    "    push!( LOAD_PATH, PATHFunctions );\n",
    "    using MeaTools\n",
    "end\n",
    "# ~ ~~ ~ ~~ ~ ~~ ~ ~~ ~ ~~ ~ ~~ ~ ~~ ~ ~~ ~ ~~ ~ ~~ ~ ~~ ~ ~~ ~ ~~ ~ ~~ ~ ~~ ~ ~~ ~ ~~ ~ ~~ #"
   ]
  },
  {
   "cell_type": "code",
   "execution_count": null,
   "id": "20341363",
   "metadata": {},
   "outputs": [],
   "source": [
    "# ~ ~~ ~ ~~ ~ ~~ ~ ~~ ~ ~~ ~ ~~ ~ ~~ ~ ~~ ~ ~~ ~ ~~ ~ ~~ ~ ~~ ~ ~~ ~ ~~ ~ ~~ ~ ~~ ~ ~~ ~ ~~ #\n",
    "FILEBRW = \"/run/media/isabel/Data/Hipocampo/Espontanea/01-06-2022/BRWs/Phase_10.brw\";\n",
    "Variables, FILEPATHS, FILEVARS = GetVarsHDF5( FILEBRW );\n",
    "PATHS = load( FILEPATHS )[ \"PATHS\" ];\n",
    "PATHMAIN = PATHS[ \"PATHMAIN\" ];\n",
    "PATHRAW = joinpath( PATHMAIN, \"Segments\" ); mkpath( PATHRAW ); \n",
    "PATHS = SavePathsFinal( PATHS );\n",
    "# ~ ~~ ~ ~~ ~ ~~ ~ ~~ ~ ~~ ~ ~~ ~ ~~ ~ ~~ ~ ~~ ~ ~~ ~ ~~ ~ ~~ ~ ~~ ~ ~~ ~ ~~ ~ ~~ ~ ~~ ~ ~~ #"
   ]
  },
  {
   "cell_type": "code",
   "execution_count": null,
   "id": "ef967c99",
   "metadata": {},
   "outputs": [],
   "source": [
    "# ~ ~~ ~ ~~ ~ ~~ ~ ~~ ~ ~~ ~ ~~ ~ ~~ ~ ~~ ~ ~~ ~ ~~ ~ ~~ ~ ~~ ~ ~~ ~ ~~ ~ ~~ ~ ~~ ~ ~~ ~ ~~ #\n",
    "σ = ChunkSizeSpace( Variables, limupper ); # Number of segments to cut\n",
    "n0s = length( string( σ ) );\n",
    "@time for n in 1:σ\n",
    "    BIN = OneSegment( Variables, n, σ );\n",
    "    BINFILE = joinpath( PATHRAW, string( \"S\", lpad( n, n0s, \"0\" ), \".jld\" ) );\n",
    "    save( BINFILE, \"data\", BIN );\n",
    "end\n",
    "# ~ ~~ ~ ~~ ~ ~~ ~ ~~ ~ ~~ ~ ~~ ~ ~~ ~ ~~ ~ ~~ ~ ~~ ~ ~~ ~ ~~ ~ ~~ ~ ~~ ~ ~~ ~ ~~ ~ ~~ ~ ~~ #"
   ]
  },
  {
   "cell_type": "code",
   "execution_count": 4,
   "id": "12125fec",
   "metadata": {},
   "outputs": [],
   "source": [
    "# ~ ~~ ~ ~~ ~ ~~ ~ ~~ ~ ~~ ~ ~~ ~ ~~ ~ ~~ ~ ~~ ~ ~~ ~ ~~ ~ ~~ ~ ~~ ~ ~~ ~ ~~ ~ ~~ ~ ~~ ~ ~~ #\n",
    "FILEPATHS = \"/run/media/isabel/Data/Hipocampo/Espontanea/01-06-2022/Phase_10/Info/Paths.jld\";\n",
    "PATHS = load( FILEPATHS )[ \"PATHS\" ];\n",
    "FILEVARS = PATHS[ \"FILEVARS\" ];\n",
    "PATHRAW = PATHS[ \"PATHRAW\" ];\n",
    "PATHMAIN = PATHS[ \"PATHMAIN\" ];\n",
    "PATHINFO = PATHS[ \"PATHINFO\" ];\n",
    "Variables = load( FILEVARS )[ \"Variables\" ];\n",
    "FILESRAW = SearchDir( PATHRAW, \".jld\" );\n",
    "PATHFIGURES = joinpath( PATHMAIN, \"Figures\" ); mkpath( PATHFIGURES );\n",
    "PATHFIGSGENERAL = joinpath( PATHFIGURES, \"General\" ); mkpath( PATHFIGSGENERAL );\n",
    "PATHCSDA = joinpath( PATHMAIN, \"CSDA\" ); mkpath( PATHCSDA );\n",
    "PATHVOLT = joinpath( PATHMAIN, \"Voltage\" ); mkpath( PATHVOLT );\n",
    "PATHFILTERS = joinpath( PATHMAIN, \"Filters\" ); mkpath( PATHFILTERS );\n",
    "parameters = Dict(\n",
    "            \"window\"    => Ms2Frs( window, Variables ),\n",
    "            \"bit\"       => Ms2Frs( bit, Variables ),\n",
    "            \"distance\"  => Ms2Frs( distance, Variables ),\n",
    "            \"ΔT\"        => Ms2Frs( ΔT, Variables );\n",
    "        );\n",
    "# ~ ~~ ~ ~~ ~ ~~ ~ ~~ ~ ~~ ~ ~~ ~ ~~ ~ ~~ ~ ~~ ~ ~~ ~ ~~ ~ ~~ ~ ~~ ~ ~~ ~ ~~ ~ ~~ ~ ~~ ~ ~~ #"
   ]
  },
  {
   "cell_type": "code",
   "execution_count": 10,
   "id": "25b014a6",
   "metadata": {},
   "outputs": [
    {
     "name": "stdout",
     "output_type": "stream",
     "text": [
      "22 channels repaired with the method: \n",
      "Random values taken from the same channel\n",
      "12 discarted channels.\n",
      "S45 Done\n"
     ]
    }
   ],
   "source": [
    "# ~ ~~ ~ ~~ ~ ~~ ~ ~~ ~ ~~ ~ ~~ ~ ~~ ~ ~~ ~ ~~ ~ ~~ ~ ~~ ~ ~~ ~ ~~ ~ ~~ ~ ~~ ~ ~~ ~ ~~ ~ ~~ #\n",
    "nFiles = length( FILESRAW );\n",
    "n = 45\n",
    "BINRAW = load( FILESRAW[ n ] )[ \"data\" ];\n",
    "BINNAME = split( basename( FILESRAW[ n ] ), \".\" )[ 1 ];\n",
    "BINRAW = Digital2Analogue( Variables, BINRAW );\n",
    "BINRAW, _, _, _ = FixSaturation( \n",
    "    BINRAW, limite, HV, lV, method );\n",
    "save( joinpath( PATHVOLT, string( BINNAME, \".jld\" ) ), \"RAW\", Float16.( BINRAW ) );\n",
    "S = PFT_mt( Variables, BINRAW );\n",
    "Ws, AE, BINMUA, BINLFP, metrics = AllWs( Variables, BINRAW, parameters, thr );\n",
    "save( joinpath( \n",
    "    PATHFILTERS, string( BINNAME, \".jld\") ), \"LFP\", BINLFP, \"MUA\", BINMUA );\n",
    "BINMUA = [ ]; BINLFP = [ ];\n",
    "W0NTotal, PF = W0Plots( Ws, BINRAW, mid, metrics );\n",
    "savefig( PF, joinpath( PATHFIGSGENERAL, string( BINNAME, \"W0NPlots.png\" ) ) );\n",
    "savefig( PF, joinpath( PATHFIGSGENERAL, string( BINNAME, \"W0NPlots.svg\" ) ) );\n",
    "W = Dict(\n",
    "    \"DirectWeights\"  => Ws,\n",
    "    \"DetectedEvents\" => AE,\n",
    "    \"labels\"         => metrics,\n",
    "    \"LogWeights\"     => W0NTotal\n",
    ");\n",
    "save( joinpath( \n",
    "    PATHINFO, string( BINNAME, \"_Analitics.jld\" ) ), \"Spectrum\", S, \"Weights\", W );\n",
    "S = [ ]; Ws = [ ]; AE = [ ]; metrics = [ ]; W0NTotal = [ ]; W = [ ];\n",
    "GST, GS, CSD = CSDAZapfe( BINRAW );\n",
    "save( joinpath( PATHCSDA, string( \n",
    "    BINNAME, \"_Partial.jld\" ) ), \"GaussSmoothTemp\", GST, \"GaussSmoothFin\", GS );\n",
    "GST = [ ]; GS = [ ];\n",
    "save( joinpath( PATHCSDA, string( BINNAME, \"_CSD.jld\" ) ), \"CSD\", CSD ); CSD = [ ];\n",
    "println( BINNAME, \" Done\" );\n",
    "GC.gc( );\n",
    "# ~ ~~ ~ ~~ ~ ~~ ~ ~~ ~ ~~ ~ ~~ ~ ~~ ~ ~~ ~ ~~ ~ ~~ ~ ~~ ~ ~~ ~ ~~ ~ ~~ ~ ~~ ~ ~~ ~ ~~ ~ ~~ #"
   ]
  },
  {
   "cell_type": "code",
   "execution_count": null,
   "id": "56e317c8",
   "metadata": {},
   "outputs": [],
   "source": []
  }
 ],
 "metadata": {
  "kernelspec": {
   "display_name": "Julia 1.8.2",
   "language": "julia",
   "name": "julia-1.8"
  },
  "language_info": {
   "file_extension": ".jl",
   "mimetype": "application/julia",
   "name": "julia",
   "version": "1.8.2"
  }
 },
 "nbformat": 4,
 "nbformat_minor": 5
}
