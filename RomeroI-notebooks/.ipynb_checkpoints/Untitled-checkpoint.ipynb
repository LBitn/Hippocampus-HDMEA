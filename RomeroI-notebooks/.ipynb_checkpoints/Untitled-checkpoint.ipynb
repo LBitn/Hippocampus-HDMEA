{
 "cells": [
  {
   "cell_type": "code",
   "execution_count": null,
   "id": "132d6fb6",
   "metadata": {},
   "outputs": [],
   "source": [
    "# ~~ ~~ ~ ~~ ~ ~~ ~ ~~ ~ ~~ ~ ~~ ~ ~~ ~ ~~ constantes ~~ ~ ~~ ~ ~~ ~ ~~ ~ ~~ ~ ~~ ~ ~~ ~ ~~ ~ #\n",
    "limupper = 0.4; # GB, para la segmentaci'on del archivo completo\n",
    "ChPercent = 15; # % porcentaje del canal que se tolera saturado\n",
    "FrPercent = 20; # % porcentaje del frame que se tolera saturado\n",
    "ΔT = 400; # ms  para la variacion temporal\n",
    "window = 5; # ms para la deteccion de eventos\n",
    "bit = 1; # ms deslizamiento de la ventana\n",
    "distance = 0.3; # ms distancia maxima entre eventos para ser descartados\n",
    "cte = 4; # 4 / sqrt( 3 ), for the donoho threshold\n",
    "thr = -60; # μV umbral estatico\n",
    "# ~ ~~ ~ ~~ ~ ~~ ~ ~~ ~ ~~ ~ ~~ ~ ~~ ~ ~~ ~ ~~ ~ ~~ ~ ~~ ~ ~~ ~ ~~ ~ ~~ ~ ~~ ~ ~~ ~ ~~ ~ ~~ ~ #"
   ]
  },
  {
   "cell_type": "code",
   "execution_count": null,
   "id": "788b2308",
   "metadata": {},
   "outputs": [],
   "source": [
    "# ~~ ~ ~~ ~ ~~ ~ ~~ ~ ~~ ~ ~~ ~ ~~ ~ ~~ ~~ paquetes ~ ~~ ~ ~~ ~ ~~ ~ ~~ ~ ~~ ~ ~~ ~ ~~ ~ ~~ ~ #\n",
    "using JLD\n",
    "# ~ ~~ ~ ~~ ~ ~~ ~ ~~ ~ ~~ ~ ~~ ~ ~~ ~ ~~ ~ ~~ ~ ~~ ~ ~~ ~ ~~ ~ ~~ ~ ~~ ~ ~~ ~ ~~ ~ ~~ ~ ~~ ~ #"
   ]
  },
  {
   "cell_type": "code",
   "execution_count": null,
   "id": "0f62e3ea",
   "metadata": {},
   "outputs": [],
   "source": [
    "# ~ ~~ ~ ~~ ~ ~~ ~ ~~ ~ ~~ ~ ~~ ~ ~~ ~ ~~ ~ ~~ ~ ~~ ~ ~~ ~ ~~ ~ ~~ ~ ~~ ~ ~~ ~ ~~ ~ ~~ ~ ~~ ~ #\n",
    "PATHFunctions = \"/home/isabel/Dropbox/git-repos/Hippocampus-HDMEA/RomeroI-notebooks\";\n",
    "#PATHFunctions = raw\"C:\\Users\\Siby\\Dropbox\\git-repos\\Hippocampus-HDMEA\\RomeroI-notebooks\";\n",
    "push!( LOAD_PATH, PATHFunctions );\n",
    "using CSDATools\n",
    "# ~ ~~ ~ ~~ ~ ~~ ~ ~~ ~ ~~ ~ ~~ ~ ~~ ~ ~~ ~ ~~ ~ ~~ ~ ~~ ~ ~~ ~ ~~ ~ ~~ ~ ~~ ~ ~~ ~ ~~ ~ ~~ ~ #"
   ]
  },
  {
   "cell_type": "code",
   "execution_count": null,
   "id": "56b16f5b",
   "metadata": {},
   "outputs": [],
   "source": [
    "# ~ ~~ ~ ~~ ~ ~~ ~ ~~ ~ ~~ ~ ~~ ~ ~~ ~ ~~ ~ ~~ ~ ~~ ~ ~~ ~ ~~ ~ ~~ ~ ~~ ~ ~~ ~ ~~ ~ ~~ ~ ~~ ~ #\n",
    "# FILEBRW = raw\"C:\\Users\\Siby\\Desktop\\Datos\\Medula\\28-02-2022\\BRWs\\Phase_01.brw\";\n",
    "FILEBRW = \"/run/media/isabel/Data/Medula/28-02-2022/BRWs/Phase_01.brw\";\n",
    "Variables, FILEPATHS = GetVarsHDF5( FILEBRW ); # Variables generales del archivo\n",
    "PATHS = load( FILEPATHS )[ \"PATHS\" ];\n",
    "\n",
    "FILEVARS = joinpath( PATHS[ \"PATHINFO\" ], \"Variables.jld\" );\n",
    "PATHVOLTAGE = joinpath( PATHS[ \"PATHMAIN\" ], \"Voltage\" );\n",
    "AllWs = Dict( );\n",
    "# ~ ~~ ~ ~~ ~ ~~ ~ ~~ ~ ~~ ~ ~~ ~ ~~ ~ ~~ ~ ~~ ~ ~~ ~ ~~ ~ ~~ ~ ~~ ~ ~~ ~ ~~ ~ ~~ ~ ~~ ~ ~~ ~ #"
   ]
  },
  {
   "cell_type": "code",
   "execution_count": null,
   "id": "cfae93b7",
   "metadata": {},
   "outputs": [],
   "source": [
    "σ = ChunkSizeSpace( Variables, limupper ); # N'umero de segmentos a cortar"
   ]
  },
  {
   "cell_type": "code",
   "execution_count": null,
   "id": "6c5d30c1",
   "metadata": {},
   "outputs": [],
   "source": [
    "# ~ ~~ ~ ~~ ~ ~~ ~ ~~ ~ ~~ ~ ~~ ~ ~~ ~ ~~ ~ ~~ ~ ~~ ~ ~~ ~ ~~ ~ ~~ ~ ~~ ~ ~~ ~ ~~ ~ ~~ ~ ~~ ~ #\n",
    "for n = 1:σ # N'umero de segmento que ser'a extraido\n",
    "    n0s = length( string( σ ) );\n",
    "    BINname = joinpath( PATHVOLTAGE, string( \"BIN\", lpad( n, n0s, \"0\" ), \".jld\" ) );\n",
    "    BINdictNAME = split( basename( BINname ), \".\" )[ 1 ];\n",
    "\n",
    "    BIN = OneSegment( Variables, n, σ ); # Extrae el bin crudo\n",
    "    BIN = Digital2Analogue( Variables, BIN ); # conversi'on a voltaje\n",
    "    BIN, DiscardedFrames, DiscardedChannels, FrsForRepair, ChsForRepair, \n",
    "        PossibleEarth = DeSatMinMax( Variables, BIN, ChPercent, FrPercent );\n",
    "    BIN[ PossibleEarth, : ] .= 0;\n",
    "    W, Events = AllMetrics( Variables, BIN, ΔT, window, bit, distance, cte, thr );\n",
    "    save( BINname, \n",
    "        \"data\", BIN, \n",
    "        \"NOFr\", DiscardedFrames\n",
    "        \"NOChs\", DiscardedChannels\n",
    "        \"FrsRep\", FrsForRepair\n",
    "        \"ChsRep\", ChsForRepair\n",
    "        \"Discarted\", PossibleEarth,\n",
    "        );\n",
    "\n",
    "    AllWs[ BINdictNAME ] = [ W, Events ];\n",
    "end\n",
    "# ~ ~~ ~ ~~ ~ ~~ ~ ~~ ~ ~~ ~ ~~ ~ ~~ ~ ~~ ~ ~~ ~ ~~ ~ ~~ ~ ~~ ~ ~~ ~ ~~ ~ ~~ ~ ~~ ~ ~~ ~ ~~ ~ #"
   ]
  },
  {
   "cell_type": "code",
   "execution_count": null,
   "id": "7ae30bdc",
   "metadata": {},
   "outputs": [],
   "source": [
    "# ~ ~~ ~ ~~ ~ ~~ ~ ~~ ~ ~~ ~ ~~ ~ ~~ ~ ~~ ~ ~~ ~ ~~ ~ ~~ ~ ~~ ~ ~~ ~ ~~ ~ ~~ ~ ~~ ~ ~~ ~ ~~ ~ #\n",
    "# Actualizando los archivos Variables y Paths y guardando las metricas obtenidas\n",
    "save( joinpath( PATHS[ \"PATHINFO\" ], \"AllMetrics.jld\" ), \"Ws\", AllWs );\n",
    "PATHS[ \"PATHVOLTAGE\" ] = PATHVOLTAGE;\n",
    "Variables[ \"limupper\" ] = limupper;\n",
    "Variables[ \"ChPercent\" ] = ChPercent;\n",
    "Variables[ \"FrPercent\" ] = FrPercent;\n",
    "Variables[ \"ΔT\" ] = ΔT;\n",
    "Variables[ \"window\" ] = window;\n",
    "Variables[ \"bit\" ] = bit;\n",
    "Variables[ \"distance\" ] = distance;\n",
    "Variables[ \"cte\" ] = cte;\n",
    "Variables[ \"thr\" ] = thr;\n",
    "save( FILEPATHS, \"PATHS\", PATHS );\n",
    "save( FILEVARS, \"Variables\", Variables );\n",
    "# ~ ~~ ~ ~~ ~ ~~ ~ ~~ ~ ~~ ~ ~~ ~ ~~ ~ ~~ ~ ~~ ~ ~~ ~ ~~ ~ ~~ ~ ~~ ~ ~~ ~ ~~ ~ ~~ ~ ~~ ~ ~~ ~ #"
   ]
  }
 ],
 "metadata": {
  "kernelspec": {
   "display_name": "Julia 1.7.2",
   "language": "julia",
   "name": "julia-1.7"
  },
  "language_info": {
   "file_extension": ".jl",
   "mimetype": "application/julia",
   "name": "julia",
   "version": "1.7.2"
  }
 },
 "nbformat": 4,
 "nbformat_minor": 5
}
