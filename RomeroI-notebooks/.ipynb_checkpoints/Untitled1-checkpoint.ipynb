{
 "cells": [
  {
   "cell_type": "code",
   "execution_count": null,
   "id": "308b947c",
   "metadata": {},
   "outputs": [],
   "source": [
    "# ~~ ~ ~~ ~ ~~ ~ ~~ ~ ~~ ~ ~~ ~ ~~ ~ ~~ Order Metrics ~~ ~ ~~ ~ ~~ ~ ~~ ~ ~~ ~ ~~ ~ ~~ ~ ~~ ~ #\n",
    "# 1. delta t\n",
    "# 2. n valores\n",
    "# 3. eventos static\n",
    "# 4. eventos dinamic\n",
    "# 5. std\n",
    "# 6. means\n",
    "# 7. medians\n",
    "# 8. globalThr\n",
    "# 9. errors\n",
    "# ~ ~~ ~ ~~ ~ ~~ ~ ~~ ~ ~~ ~ ~~ ~ ~~ ~ ~~ ~ ~~ ~ ~~ ~ ~~ ~ ~~ ~ ~~ ~ ~~ ~ ~~ ~ ~~ ~ ~~ ~ ~~ ~ #"
   ]
  }
 ],
 "metadata": {
  "kernelspec": {
   "display_name": "Julia 1.7.2",
   "language": "julia",
   "name": "julia-1.7"
  },
  "language_info": {
   "file_extension": ".jl",
   "mimetype": "application/julia",
   "name": "julia",
   "version": "1.7.2"
  }
 },
 "nbformat": 4,
 "nbformat_minor": 5
}
